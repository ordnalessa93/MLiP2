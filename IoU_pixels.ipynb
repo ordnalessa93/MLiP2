{
 "cells": [
  {
   "cell_type": "markdown",
   "metadata": {},
   "source": [
    "# IoU pixel by pixel"
   ]
  },
  {
   "cell_type": "code",
   "execution_count": 27,
   "metadata": {
    "collapsed": true
   },
   "outputs": [],
   "source": [
    "import numpy as np\n",
    "import keras\n",
    "from keras.layers import *\n",
    "import keras.backend as K\n",
    "from keras.models import Model"
   ]
  },
  {
   "cell_type": "code",
   "execution_count": 70,
   "metadata": {
    "collapsed": true
   },
   "outputs": [],
   "source": [
    "def compute_IoU(y_true, y_pred):\n",
    "    # convert to numpy array for convenience and flatten\n",
    "    pred = K.eval(y_pred)\n",
    "    pred_f = pred.flatten()\n",
    "    truth = K.eval(y_true)\n",
    "    truth_f = truth.flatten()\n",
    "    \n",
    "    out_shape = pred.shape\n",
    "        \n",
    "    IoU = np.zeros(out_shape)\n",
    "    \n",
    "    lbls_in_pred = np.unique(pred_f)\n",
    "    for pr_class in lbls_in_pred:\n",
    "        # create mask of units that predicted pr_class\n",
    "        mask_pr = (pred_f == pr_class)\n",
    "        mask_tr = (truth_f == pr_class)\n",
    "        \n",
    "        # get intersection and union values for pr_class\n",
    "        inter = (mask_pr == mask_tr)\n",
    "        union = np.sum(mask_pr + mask_tr ^ inter)\n",
    "        \n",
    "        iou = (sum(inter) / union)\n",
    "        # use value only on units that did the prediction\n",
    "        iou_arr = mask_pr * iou\n",
    "        \n",
    "        # reshape and put in dictionary\n",
    "        IoU += iou_arr.reshape(out_shape)\n",
    "    \n",
    "    # return the complementary of IoU to punish more low IoU \n",
    "    return K.variable(1 - IoU)\n",
    "    "
   ]
  },
  {
   "cell_type": "code",
   "execution_count": 76,
   "metadata": {
    "collapsed": true
   },
   "outputs": [],
   "source": [
    "# pred = np.random.randint(0, 6, (300, 300))\n",
    "# truth = np.random.randint(0, 6, (300, 300))\n",
    "\n",
    "shp = (30, 30)\n",
    "\n",
    "pred = np.random.randint(0, 6, shp)\n",
    "\n",
    "truth = np.ones(shp)\n",
    "\n",
    "pred = K.variable(pred)\n",
    "truth = K.variable(truth)\n",
    "\n",
    "c = compute_IoU(truth, pred)\n"
   ]
  },
  {
   "cell_type": "code",
   "execution_count": 86,
   "metadata": {},
   "outputs": [
    {
     "name": "stdout",
     "output_type": "stream",
     "text": [
      "(30,)\n",
      "(30, 30)\n"
     ]
    }
   ],
   "source": [
    "l = keras.losses.categorical_crossentropy(truth, pred)\n",
    "print(K.eval(l).shape)\n",
    "# print()\n",
    "print(K.eval(l + l * c).shape)"
   ]
  },
  {
   "cell_type": "code",
   "execution_count": null,
   "metadata": {
    "collapsed": true
   },
   "outputs": [],
   "source": []
  }
 ],
 "metadata": {
  "kernelspec": {
   "display_name": "Python 3",
   "language": "python",
   "name": "python3"
  },
  "language_info": {
   "codemirror_mode": {
    "name": "ipython",
    "version": 3
   },
   "file_extension": ".py",
   "mimetype": "text/x-python",
   "name": "python",
   "nbconvert_exporter": "python",
   "pygments_lexer": "ipython3",
   "version": "3.6.3"
  }
 },
 "nbformat": 4,
 "nbformat_minor": 2
}
