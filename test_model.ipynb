{
 "cells": [
  {
   "cell_type": "code",
   "execution_count": 1,
   "metadata": {},
   "outputs": [
    {
     "name": "stderr",
     "output_type": "stream",
     "text": [
      "Using TensorFlow backend.\n"
     ]
    }
   ],
   "source": [
    "# needed imports\n",
    "import numpy as np\n",
    "import os\n",
    "import cv2\n",
    "\n",
    "# deep learning library\n",
    "import keras\n",
    "from keras.layers import Input\n",
    "from keras.utils.training_utils import multi_gpu_model\n",
    "\n",
    "# allow memmory dynamic memmory allocation\n",
    "# import tensorflow as tf\n",
    "# from keras.backend.tensorflow_backend import set_session\n",
    "# config = tf.ConfigProto()\n",
    "# config.gpu_options.allow_growth = True  # dynamically grow the memory used on the GPU\n",
    "# config.log_device_placement = True  # to log device placement (on which device the operation ran)\n",
    "# sess = tf.Session(config=config)\n",
    "# set_session(sess)  # set this TensorFlow session as the default session for Keras\n",
    "\n",
    "# plotting images\n",
    "import matplotlib.pyplot as plt\n",
    "\n",
    "from create_model import createVGG16, createVGGskip, createUnet"
   ]
  },
  {
   "cell_type": "code",
   "execution_count": 2,
   "metadata": {
    "collapsed": true
   },
   "outputs": [],
   "source": [
    "# numpy array containing all the classes\n",
    "#class_labels = np.array((33, 34, 35, 36, 38, 39, 40, 0))\n",
    "#class_labels = np.array((33, 0))\n",
    "class_labels = np.array((33, 38, 0))"
   ]
  },
  {
   "cell_type": "code",
   "execution_count": 3,
   "metadata": {
    "scrolled": false
   },
   "outputs": [
    {
     "name": "stdout",
     "output_type": "stream",
     "text": [
      "__________________________________________________________________________________________________\n",
      "Layer (type)                    Output Shape         Param #     Connected to                     \n",
      "==================================================================================================\n",
      "input_1 (InputLayer)            (None, None, None, 3 0                                            \n",
      "__________________________________________________________________________________________________\n",
      "block1_conv1 (Conv2D)           (None, None, None, 6 1792        input_1[0][0]                    \n",
      "__________________________________________________________________________________________________\n",
      "block1_conv2 (Conv2D)           (None, None, None, 6 36928       block1_conv1[0][0]               \n",
      "__________________________________________________________________________________________________\n",
      "block1_pool (MaxPooling2D)      (None, None, None, 6 0           block1_conv2[0][0]               \n",
      "__________________________________________________________________________________________________\n",
      "block2_conv1 (Conv2D)           (None, None, None, 1 73856       block1_pool[0][0]                \n",
      "__________________________________________________________________________________________________\n",
      "block2_conv2 (Conv2D)           (None, None, None, 1 147584      block2_conv1[0][0]               \n",
      "__________________________________________________________________________________________________\n",
      "block2_pool (MaxPooling2D)      (None, None, None, 1 0           block2_conv2[0][0]               \n",
      "__________________________________________________________________________________________________\n",
      "block3_conv1 (Conv2D)           (None, None, None, 2 295168      block2_pool[0][0]                \n",
      "__________________________________________________________________________________________________\n",
      "block3_conv2 (Conv2D)           (None, None, None, 2 590080      block3_conv1[0][0]               \n",
      "__________________________________________________________________________________________________\n",
      "block3_conv3 (Conv2D)           (None, None, None, 2 590080      block3_conv2[0][0]               \n",
      "__________________________________________________________________________________________________\n",
      "block3_pool (MaxPooling2D)      (None, None, None, 2 0           block3_conv3[0][0]               \n",
      "__________________________________________________________________________________________________\n",
      "block4_conv1 (Conv2D)           (None, None, None, 5 1180160     block3_pool[0][0]                \n",
      "__________________________________________________________________________________________________\n",
      "block4_conv2 (Conv2D)           (None, None, None, 5 2359808     block4_conv1[0][0]               \n",
      "__________________________________________________________________________________________________\n",
      "block4_conv3 (Conv2D)           (None, None, None, 5 2359808     block4_conv2[0][0]               \n",
      "__________________________________________________________________________________________________\n",
      "block4_pool (MaxPooling2D)      (None, None, None, 5 0           block4_conv3[0][0]               \n",
      "__________________________________________________________________________________________________\n",
      "block5_conv1 (Conv2D)           (None, None, None, 5 2359808     block4_pool[0][0]                \n",
      "__________________________________________________________________________________________________\n",
      "block5_conv2 (Conv2D)           (None, None, None, 5 2359808     block5_conv1[0][0]               \n",
      "__________________________________________________________________________________________________\n",
      "block5_conv3 (Conv2D)           (None, None, None, 5 2359808     block5_conv2[0][0]               \n",
      "__________________________________________________________________________________________________\n",
      "block5_pool (MaxPooling2D)      (None, None, None, 5 0           block5_conv3[0][0]               \n",
      "__________________________________________________________________________________________________\n",
      "conv2d_1 (Conv2D)               (None, None, None, 5 2359808     block5_pool[0][0]                \n",
      "__________________________________________________________________________________________________\n",
      "batch_normalization_1 (BatchNor (None, None, None, 5 2048        conv2d_1[0][0]                   \n",
      "__________________________________________________________________________________________________\n",
      "activation_1 (Activation)       (None, None, None, 5 0           batch_normalization_1[0][0]      \n",
      "__________________________________________________________________________________________________\n",
      "dropout_1 (Dropout)             (None, None, None, 5 0           activation_1[0][0]               \n",
      "__________________________________________________________________________________________________\n",
      "up_sampling2d_1 (UpSampling2D)  (None, None, None, 5 0           dropout_1[0][0]                  \n",
      "__________________________________________________________________________________________________\n",
      "concatenate_1 (Concatenate)     (None, None, None, 1 0           up_sampling2d_1[0][0]            \n",
      "                                                                 block5_conv3[0][0]               \n",
      "__________________________________________________________________________________________________\n",
      "conv2d_2 (Conv2D)               (None, None, None, 2 2359552     concatenate_1[0][0]              \n",
      "__________________________________________________________________________________________________\n",
      "batch_normalization_2 (BatchNor (None, None, None, 2 1024        conv2d_2[0][0]                   \n",
      "__________________________________________________________________________________________________\n",
      "activation_2 (Activation)       (None, None, None, 2 0           batch_normalization_2[0][0]      \n",
      "__________________________________________________________________________________________________\n",
      "dropout_2 (Dropout)             (None, None, None, 2 0           activation_2[0][0]               \n",
      "__________________________________________________________________________________________________\n",
      "up_sampling2d_2 (UpSampling2D)  (None, None, None, 2 0           dropout_2[0][0]                  \n",
      "__________________________________________________________________________________________________\n",
      "concatenate_2 (Concatenate)     (None, None, None, 7 0           up_sampling2d_2[0][0]            \n",
      "                                                                 block4_conv3[0][0]               \n",
      "__________________________________________________________________________________________________\n",
      "conv2d_3 (Conv2D)               (None, None, None, 1 884864      concatenate_2[0][0]              \n",
      "__________________________________________________________________________________________________\n",
      "batch_normalization_3 (BatchNor (None, None, None, 1 512         conv2d_3[0][0]                   \n",
      "__________________________________________________________________________________________________\n",
      "activation_3 (Activation)       (None, None, None, 1 0           batch_normalization_3[0][0]      \n",
      "__________________________________________________________________________________________________\n",
      "dropout_3 (Dropout)             (None, None, None, 1 0           activation_3[0][0]               \n",
      "__________________________________________________________________________________________________\n",
      "up_sampling2d_3 (UpSampling2D)  (None, None, None, 1 0           dropout_3[0][0]                  \n",
      "__________________________________________________________________________________________________\n",
      "concatenate_3 (Concatenate)     (None, None, None, 3 0           up_sampling2d_3[0][0]            \n",
      "                                                                 block3_conv3[0][0]               \n",
      "__________________________________________________________________________________________________\n",
      "conv2d_4 (Conv2D)               (None, None, None, 6 221248      concatenate_3[0][0]              \n",
      "__________________________________________________________________________________________________\n",
      "batch_normalization_4 (BatchNor (None, None, None, 6 256         conv2d_4[0][0]                   \n",
      "__________________________________________________________________________________________________\n",
      "activation_4 (Activation)       (None, None, None, 6 0           batch_normalization_4[0][0]      \n",
      "__________________________________________________________________________________________________\n",
      "dropout_4 (Dropout)             (None, None, None, 6 0           activation_4[0][0]               \n",
      "__________________________________________________________________________________________________\n",
      "up_sampling2d_4 (UpSampling2D)  (None, None, None, 6 0           dropout_4[0][0]                  \n",
      "__________________________________________________________________________________________________\n",
      "concatenate_4 (Concatenate)     (None, None, None, 1 0           up_sampling2d_4[0][0]            \n",
      "                                                                 block2_conv2[0][0]               \n",
      "__________________________________________________________________________________________________\n",
      "conv2d_5 (Conv2D)               (None, None, None, 3 55328       concatenate_4[0][0]              \n",
      "__________________________________________________________________________________________________\n",
      "batch_normalization_5 (BatchNor (None, None, None, 3 128         conv2d_5[0][0]                   \n",
      "__________________________________________________________________________________________________\n",
      "activation_5 (Activation)       (None, None, None, 3 0           batch_normalization_5[0][0]      \n",
      "__________________________________________________________________________________________________\n",
      "dropout_5 (Dropout)             (None, None, None, 3 0           activation_5[0][0]               \n",
      "__________________________________________________________________________________________________\n",
      "up_sampling2d_5 (UpSampling2D)  (None, None, None, 3 0           dropout_5[0][0]                  \n",
      "__________________________________________________________________________________________________\n",
      "concatenate_5 (Concatenate)     (None, None, None, 9 0           up_sampling2d_5[0][0]            \n",
      "                                                                 block1_conv2[0][0]               \n",
      "__________________________________________________________________________________________________\n",
      "conv2d_6 (Conv2D)               (None, None, None, 3 2595        concatenate_5[0][0]              \n",
      "__________________________________________________________________________________________________\n",
      "batch_normalization_6 (BatchNor (None, None, None, 3 12          conv2d_6[0][0]                   \n",
      "__________________________________________________________________________________________________\n",
      "activation_6 (Activation)       (None, None, None, 3 0           batch_normalization_6[0][0]      \n",
      "__________________________________________________________________________________________________\n",
      "dropout_6 (Dropout)             (None, None, None, 3 0           activation_6[0][0]               \n",
      "__________________________________________________________________________________________________\n",
      "activation_7 (Activation)       (None, None, None, 3 0           dropout_6[0][0]                  \n",
      "==================================================================================================\n",
      "Total params: 20,602,063\n",
      "Trainable params: 5,885,385\n",
      "Non-trainable params: 14,716,678\n",
      "__________________________________________________________________________________________________\n"
     ]
    },
    {
     "name": "stderr",
     "output_type": "stream",
     "text": [
      "/home/pabloleo96/MLiP2/create_model.py:203: UserWarning: Update your `Model` call to the Keras 2 API: `Model(inputs=Tensor(\"in..., outputs=Tensor(\"ac...)`\n",
      "  vgg_16_new = Model(input = in_t, output = x_out)\n"
     ]
    }
   ],
   "source": [
    "# since we are going to segment the image, the input should not have any dimension\n",
    "x_in = Input(shape=(None, None, 3))\n",
    "\n",
    "#vgg_16_new = createVGGskip_2(x_in)\n",
    "#vgg_16_new = createVGG16(x_in)\n",
    "vgg_16_new = createVGGskip(x_in, len(class_labels))"
   ]
  },
  {
   "cell_type": "code",
   "execution_count": 4,
   "metadata": {},
   "outputs": [],
   "source": [
    "# model name\n",
    "#model_name = 'best_model_vgg_8c-only_cars.h5'\n",
    "model_name = 'best_model_vgg_8c-test_val.h5'\n",
    "#model_name = 'best_model_vgg_8c-lossmin.h5'\n",
    "\n",
    "result_dir = './results'\n",
    "#vgg_16_multi = multi_gpu_model(vgg_16_new, gpus = 2)\n",
    "vgg_16_new.load_weights(os.path.join(result_dir, model_name))"
   ]
  },
  {
   "cell_type": "code",
   "execution_count": null,
   "metadata": {
    "scrolled": false
   },
   "outputs": [],
   "source": [
    "# file_dir_or = './data/full_data/test'\n",
    "\n",
    "# # obtain a list of files in the given directory\n",
    "# filelist_x_or = np.array(sorted(os.listdir(file_dir_or)))\n",
    "\n",
    "# n = 10\n",
    "\n",
    "# file_x_original = []\n",
    "# for i in range(n):\n",
    "#     file_x_original.append(np.pad(np.array(cv2.imread(os.path.join(file_dir_or, filelist_x_or[800+i]), -1))/255,((0,10),(0,8),(0,0)), 'constant', constant_values = 0))\n",
    "\n",
    "# file_x_original = np.array(file_x_original)\n",
    "# file_y_pred     = vgg_16_new.predict(file_x_original[:,704:,:3360,:], batch_size = 1, verbose = 1)\n",
    "\n",
    "# for i in range(n):\n",
    "#     plt.figure(figsize = (15,12))\n",
    "#     plt.subplot(2,3,1)\n",
    "#     plt.imshow(file_x_original[i,704:,:3360,:]); plt.title('original_color')\n",
    "#     plt.subplot(2,3,2)\n",
    "#     plt.imshow(np.argmax(file_y_pred[i], axis=-1)); plt.title('predicted_label')\n",
    "#     plt.subplot(2,3,3)\n",
    "#     plt.imshow(file_x_original[i,704:,:3360,:], 'gray', interpolation='none'); plt.title('overlapped_label')\n",
    "#     plt.imshow(np.argmax(file_y_pred[i], axis=-1), 'jet', interpolation='none', alpha=0.7)\n",
    "# plt.show()"
   ]
  },
  {
   "cell_type": "code",
   "execution_count": null,
   "metadata": {
    "scrolled": true
   },
   "outputs": [
    {
     "name": "stdout",
     "output_type": "stream",
     "text": [
      "Starting prediction\n",
      "Number of predicted images: 0 out of 1917\n",
      "Starting prediction\n",
      "Number of predicted images: 1 out of 1917\n",
      "Starting prediction\n",
      "Number of predicted images: 2 out of 1917\n",
      "Starting prediction\n",
      "Number of predicted images: 3 out of 1917\n",
      "Starting prediction\n",
      "Number of predicted images: 4 out of 1917\n",
      "Starting prediction\n",
      "Number of predicted images: 5 out of 1917\n",
      "Starting prediction\n",
      "Number of predicted images: 6 out of 1917\n",
      "Starting prediction\n",
      "Number of predicted images: 7 out of 1917\n",
      "Starting prediction\n",
      "Number of predicted images: 8 out of 1917\n",
      "Starting prediction\n",
      "Number of predicted images: 9 out of 1917\n",
      "Starting prediction\n",
      "Number of predicted images: 10 out of 1917\n",
      "Starting prediction\n",
      "Number of predicted images: 11 out of 1917\n",
      "Starting prediction\n",
      "Number of predicted images: 12 out of 1917\n",
      "Starting prediction\n",
      "Number of predicted images: 13 out of 1917\n",
      "Starting prediction\n",
      "Number of predicted images: 14 out of 1917\n",
      "Starting prediction\n",
      "Number of predicted images: 15 out of 1917\n",
      "Starting prediction\n",
      "Number of predicted images: 16 out of 1917\n",
      "Starting prediction\n",
      "Number of predicted images: 17 out of 1917\n"
     ]
    }
   ],
   "source": [
    "from create_submission import CreateSubmission\n",
    "\n",
    "test_dir = './data/full_data/test'\n",
    "CreateSubmission(vgg_16_new, test_dir)"
   ]
  },
  {
   "cell_type": "code",
   "execution_count": null,
   "metadata": {
    "collapsed": true
   },
   "outputs": [],
   "source": []
  }
 ],
 "metadata": {
  "kernelspec": {
   "display_name": "Python 3",
   "language": "python",
   "name": "python3"
  },
  "language_info": {
   "codemirror_mode": {
    "name": "ipython",
    "version": 3
   },
   "file_extension": ".py",
   "mimetype": "text/x-python",
   "name": "python",
   "nbconvert_exporter": "python",
   "pygments_lexer": "ipython3",
   "version": "3.6.3"
  }
 },
 "nbformat": 4,
 "nbformat_minor": 2
}
