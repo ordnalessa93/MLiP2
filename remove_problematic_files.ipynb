{
 "cells": [
  {
   "cell_type": "code",
   "execution_count": 1,
   "metadata": {
    "collapsed": true
   },
   "outputs": [],
   "source": [
    "import os\n",
    "import cv2\n",
    "import numpy as np"
   ]
  },
  {
   "cell_type": "code",
   "execution_count": 5,
   "metadata": {},
   "outputs": [
    {
     "name": "stdout",
     "output_type": "stream",
     "text": [
      "0\n",
      "0\n",
      "0\n",
      "0\n",
      "0\n",
      "0\n",
      "0\n",
      "0\n"
     ]
    }
   ],
   "source": [
    "#file_dir = './data/full_data/'\n",
    "file_dir = './data/processedData'\n",
    "file_dirs_color = sorted(os.listdir(file_dir))[:8]\n",
    "file_dirs_label = sorted(os.listdir(file_dir))[-8:]\n",
    "\n",
    "for j in range(len(file_dirs_color)):\n",
    "    \n",
    "    # obtain a list of files in the given directory\n",
    "    filelist_x = np.array(sorted(os.listdir(os.path.join(file_dir, file_dirs_color[j]))))\n",
    "    filelist_y = np.array(sorted(os.listdir(os.path.join(file_dir, file_dirs_label[j]))))\n",
    "\n",
    "    count = 0\n",
    "    for i in range(len(filelist_x)):\n",
    "        a = cv2.imread(os.path.join(file_dir, file_dirs_color[j], filelist_x[i]), -1)\n",
    "        b = cv2.imread(os.path.join(file_dir, file_dirs_label[j], filelist_y[i]), -1)\n",
    "\n",
    "        if a is None or b is None:\n",
    "            os.remove(os.path.join(file_dir, 'train_color', filelist_x[i]))\n",
    "            os.remove(os.path.join(file_dir, 'train_label', filelist_y[i]))\n",
    "            count+=1\n",
    "            #print('aaa', os.path.join(file_dir, 'train_color', filelist_x[i]))\n",
    "\n",
    "    print(count)"
   ]
  },
  {
   "cell_type": "code",
   "execution_count": null,
   "metadata": {
    "collapsed": true
   },
   "outputs": [],
   "source": [
    "# # remove last part of the filenames\n",
    "# filelist_x_cut = np.array([file[:-4] for file in filelist_x])\n",
    "# filelist_y_cut = np.array([file[:-16] for file in filelist_y])\n",
    "\n",
    "# # check if all the images have its corresponding mask\n",
    "# for i in range(len(filelist_x_cut)):\n",
    "#     if filelist_x_cut[i] != filelist_y_cut[i]:\n",
    "#         print(i)"
   ]
  }
 ],
 "metadata": {
  "kernelspec": {
   "display_name": "Python 3",
   "language": "python",
   "name": "python3"
  },
  "language_info": {
   "codemirror_mode": {
    "name": "ipython",
    "version": 3
   },
   "file_extension": ".py",
   "mimetype": "text/x-python",
   "name": "python",
   "nbconvert_exporter": "python",
   "pygments_lexer": "ipython3",
   "version": "3.6.3"
  }
 },
 "nbformat": 4,
 "nbformat_minor": 2
}
